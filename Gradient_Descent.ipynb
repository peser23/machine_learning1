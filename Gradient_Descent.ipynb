{
  "nbformat": 4,
  "nbformat_minor": 0,
  "metadata": {
    "colab": {
      "provenance": [],
      "authorship_tag": "ABX9TyMVGEhYHi4t5h1V5zIC8JZw"
    },
    "kernelspec": {
      "name": "python3",
      "display_name": "Python 3"
    },
    "language_info": {
      "name": "python"
    }
  },
  "cells": [
    {
      "cell_type": "code",
      "execution_count": 1,
      "metadata": {
        "id": "uUGkN3A8OiMe"
      },
      "outputs": [],
      "source": [
        "import numpy as np"
      ]
    },
    {
      "cell_type": "code",
      "source": [
        "x = np.array([1,2,3,4,5])\n",
        "y = np.array([5,7,9,11,13])\n",
        "#Solution\n",
        "#m = 2; b = 3"
      ],
      "metadata": {
        "id": "Gjg1o9--Ow1Q"
      },
      "execution_count": 2,
      "outputs": []
    },
    {
      "cell_type": "code",
      "source": [
        "def gradient_descent(x,y):\n",
        "  m_curr = b_curr = 0\n",
        "\n",
        "  #keep changing iterations and learning rate\n",
        "  iterations = 10\n",
        "  learning_rate = 0.08\n",
        "  n = len(x)\n",
        "\n",
        "  for i in range(iterations):\n",
        "    y_predicted = m_curr * x + b_curr\n",
        "    cost = (1/n) * sum([val**2 for val in (y - y_predicted)])\n",
        "    #calculate m and b derivatives\n",
        "    md = -(2/n)*sum(x*(y - y_predicted))\n",
        "    bd = -(2/n)*sum(y - y_predicted)\n",
        "    m_curr = m_curr - learning_rate * md\n",
        "    b_curr = b_curr - learning_rate * bd\n",
        "    print(\"m_curr: {} b_curr: {} cost: {} Iteration: {} \".format(m_curr,b_curr, cost, i))\n"
      ],
      "metadata": {
        "id": "KORR60_YPDs4"
      },
      "execution_count": 26,
      "outputs": []
    },
    {
      "cell_type": "code",
      "source": [
        "gradient_descent(x,y)"
      ],
      "metadata": {
        "colab": {
          "base_uri": "https://localhost:8080/"
        },
        "id": "9TIOgwY7ROfA",
        "outputId": "61f9d4a0-7b74-4bfa-e68f-7877f7f2616b"
      },
      "execution_count": 27,
      "outputs": [
        {
          "output_type": "stream",
          "name": "stdout",
          "text": [
            "m_curr: 4.96 b_curr: 1.44 cost: 89.0 Iteration: 0 \n",
            "m_curr: 0.4991999999999983 b_curr: 0.26879999999999993 cost: 71.10560000000002 Iteration: 1 \n",
            "m_curr: 4.451584000000002 b_curr: 1.426176000000001 cost: 56.8297702400001 Iteration: 2 \n",
            "m_curr: 0.892231679999997 b_curr: 0.5012275199999995 cost: 45.43965675929613 Iteration: 3 \n",
            "m_curr: 4.041314713600002 b_curr: 1.432759910400001 cost: 36.35088701894832 Iteration: 4 \n",
            "m_curr: 1.2008760606719973 b_curr: 0.7036872622079998 cost: 29.097483330142282 Iteration: 5 \n",
            "m_curr: 3.7095643080294423 b_curr: 1.4546767911321612 cost: 23.307872849944438 Iteration: 6 \n",
            "m_curr: 1.4424862661541864 b_curr: 0.881337636696883 cost: 18.685758762535738 Iteration: 7 \n",
            "m_curr: 3.4406683721083144 b_curr: 1.4879302070713722 cost: 14.994867596913156 Iteration: 8 \n",
            "m_curr: 1.6308855378034224 b_curr: 1.0383405553279617 cost: 12.046787238456794 Iteration: 9 \n"
          ]
        }
      ]
    }
  ]
}