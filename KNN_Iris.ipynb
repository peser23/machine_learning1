{
  "nbformat": 4,
  "nbformat_minor": 0,
  "metadata": {
    "colab": {
      "provenance": [],
      "authorship_tag": "ABX9TyPG5/FovMpi++yOIgFF8v+m"
    },
    "kernelspec": {
      "name": "python3",
      "display_name": "Python 3"
    },
    "language_info": {
      "name": "python"
    }
  },
  "cells": [
    {
      "cell_type": "markdown",
      "source": [
        "# KNN (K Nearest neighbors) Classification - In Python using sklearn"
      ],
      "metadata": {
        "id": "7I4iXMUUEmnu"
      }
    }
  ]
}