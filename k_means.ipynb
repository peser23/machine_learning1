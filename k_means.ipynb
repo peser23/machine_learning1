{
  "nbformat": 4,
  "nbformat_minor": 0,
  "metadata": {
    "colab": {
      "provenance": [],
      "authorship_tag": "ABX9TyOZBxm3xXswxfjcNWO93zZX"
    },
    "kernelspec": {
      "name": "python3",
      "display_name": "Python 3"
    },
    "language_info": {
      "name": "python"
    }
  },
  "cells": [
    {
      "cell_type": "code",
      "execution_count": null,
      "metadata": {
        "id": "eOG1LKuLV4Lw"
      },
      "outputs": [],
      "source": [
        "import pandas as pd\n",
        "import matplotlib.pyplot as plt\n",
        "\n",
        "from sklearn.preprocessing import StandardScaler\n",
        "from sklearn.cluster import KMeans"
      ]
    },
    {
      "cell_type": "markdown",
      "source": [
        "**Load the dataset**"
      ],
      "metadata": {
        "id": "1yEW3e0aV-JZ"
      }
    },
    {
      "cell_type": "code",
      "source": [
        "df = pd.read_csv(\"/content/sample_data/force2020_data_unsupervised_learning.csv\", index_col=\"DEPTH_MD\")\n",
        "df"
      ],
      "metadata": {
        "id": "JCeUe1kNWC_9"
      },
      "execution_count": null,
      "outputs": []
    },
    {
      "cell_type": "code",
      "source": [
        "#Drop columns with NULL values\n",
        "df.dropna(inplace=True)\n",
        "df"
      ],
      "metadata": {
        "id": "mLBfiDa_X-jr"
      },
      "execution_count": null,
      "outputs": []
    },
    {
      "cell_type": "code",
      "source": [
        "df.describe()"
      ],
      "metadata": {
        "id": "EemqwkOtYbjS"
      },
      "execution_count": null,
      "outputs": []
    },
    {
      "cell_type": "markdown",
      "source": [
        "# Transform the data\n",
        "   Standardise the data using StandardScalar function from sklearn"
      ],
      "metadata": {
        "id": "avjR-oa1XP6i"
      }
    },
    {
      "cell_type": "code",
      "source": [
        "scalar = StandardScaler()\n",
        "df[['RHOB_T','GR_T','NPHI_T','PEF_T','DTC_T']] = scalar.fit_transform(df[['RHOB','GR','NPHI','PEF','DTC']])\n"
      ],
      "metadata": {
        "id": "wgK4V56mXmzC"
      },
      "execution_count": null,
      "outputs": []
    },
    {
      "cell_type": "code",
      "source": [
        "df"
      ],
      "metadata": {
        "id": "jwwjGC-xXwEk"
      },
      "execution_count": null,
      "outputs": []
    },
    {
      "cell_type": "markdown",
      "source": [
        "# Clustering The Data (2 Variables)\n",
        "# **Identifying Optimum Number of Clusters**\n",
        "There are a number of ways to identify the optimum number of clusters. The method we are going to look at below is known as the Elbow method.\n",
        "The Elbow plot allows us to plot the inertia, which is a measure of how well the data was clustered by the K-Means algorithm, against the number of clusters. From this plot, we are looking for a point where the inertia begins to slow.\n"
      ],
      "metadata": {
        "id": "jVNzjhYIaEo2"
      }
    },
    {
      "cell_type": "code",
      "source": [
        "# Create function to work out optimum number of clusters\n",
        "def optimise_k_means(data, max_k):\n",
        "  means = []\n",
        "  inertias = []\n",
        "\n",
        "  for k in range(1, max_k):\n",
        "    kmeans = KMeans(n_clusters=k)\n",
        "    kmeans.fit(data)\n",
        "\n",
        "    means.append(k)\n",
        "    inertias.append(kmeans. inertia_)\n",
        "\n",
        "  #Generate the elbow plot\n",
        "  fig =plt.subplots (figsize=(10, 5))\n",
        "  plt.plot(means, inertias, 'o-')\n",
        "  plt.xlabel('Number of Clusters')\n",
        "  plt.ylabel('Inertia')\n",
        "  plt.grid(True)\n",
        "  plt.show()"
      ],
      "metadata": {
        "id": "1Ce5VrPdaU92"
      },
      "execution_count": null,
      "outputs": []
    },
    {
      "cell_type": "code",
      "source": [
        "optimise_k_means(df [['RHOB_T', 'NPHI_T']], 10)"
      ],
      "metadata": {
        "id": "yIVct3XYbKAU"
      },
      "execution_count": null,
      "outputs": []
    },
    {
      "cell_type": "markdown",
      "source": [
        "# Apply k-Means clustering\n"
      ],
      "metadata": {
        "id": "x4_GSuXwb2r2"
      }
    },
    {
      "cell_type": "code",
      "source": [
        "kmeans = KMeans(n_clusters=3)\n",
        "kmeans.fit(df[['RHOB_T', 'NPHI_T']])"
      ],
      "metadata": {
        "id": "5hV9c3QocBQ6"
      },
      "execution_count": null,
      "outputs": []
    },
    {
      "cell_type": "code",
      "source": [
        "df['kmeans_3'] = kmeans.labels_\n",
        "df"
      ],
      "metadata": {
        "id": "wGqEzvZjcZ-s"
      },
      "execution_count": null,
      "outputs": []
    },
    {
      "cell_type": "code",
      "source": [],
      "metadata": {
        "id": "tHLi82BXcnwr"
      },
      "execution_count": null,
      "outputs": []
    },
    {
      "cell_type": "markdown",
      "source": [
        "## Plotting the Results"
      ],
      "metadata": {
        "id": "0QZkXHKXsmvx"
      }
    },
    {
      "cell_type": "code",
      "source": [
        "plt.scatter(x=df['NPHI'], y=df['RHOB'], c=df['kmeans_3'])\n",
        "plt.xlim(-0.1,1)\n",
        "plt.ylim(3,1.5)\n",
        "plt.show()"
      ],
      "metadata": {
        "id": "Y0Qqq_kPssEZ"
      },
      "execution_count": null,
      "outputs": []
    }
  ]
}