{
  "nbformat": 4,
  "nbformat_minor": 0,
  "metadata": {
    "colab": {
      "provenance": [],
      "authorship_tag": "ABX9TyPI7nqcyh8JYcE7tcNLT5KE"
    },
    "kernelspec": {
      "name": "python3",
      "display_name": "Python 3"
    },
    "language_info": {
      "name": "python"
    }
  },
  "cells": [
    {
      "cell_type": "markdown",
      "source": [
        "# Load the Iris Dataset"
      ],
      "metadata": {
        "id": "gAs2Nc5SSFi5"
      }
    },
    {
      "cell_type": "code",
      "source": [
        "from sklearn.datasets import load_iris\n",
        "import pandas as pd\n",
        "\n",
        "iris_bunch = load_iris(as_frame = True)\n",
        "iris_df = iris_bunch.data\n",
        "iris_df"
      ],
      "metadata": {
        "id": "sqMp3EaOSHob"
      },
      "execution_count": null,
      "outputs": []
    },
    {
      "cell_type": "markdown",
      "source": [
        "# Cluster the Iris dataset using K-Means with Python"
      ],
      "metadata": {
        "id": "8imz0dbLTBGZ"
      }
    },
    {
      "cell_type": "code",
      "source": [
        "from sklearn.cluster import KMeans\n",
        "## Perform clustering with three clusters, 25 random starts and\n",
        "# setting the random seed for reproducibility\n",
        "k_means = KMeans(n_clusters=3, n_init=10, random_state=2413)\n",
        "\n",
        "# Cluster only petal legths and petal widths so we can visualize\n",
        "k_means.fit(iris_df[['petal length (cm)', 'petal width (cm)']])\n",
        "\n",
        "# Add cluster labels to dataframe\n",
        "iris_df['label'] = k_means.labels_\n",
        "\n",
        "# What are the counts by cluster label?\n",
        "iris_df['label'].value_counts()"
      ],
      "metadata": {
        "id": "CbMvbd7UTKMH"
      },
      "execution_count": null,
      "outputs": []
    },
    {
      "cell_type": "markdown",
      "source": [
        "# Visualizing Clusters"
      ],
      "metadata": {
        "id": "LGdGt8bxWMhc"
      }
    },
    {
      "cell_type": "markdown",
      "source": [
        "Use the plotnine library to visualize the clustering of the Iris dataset."
      ],
      "metadata": {
        "id": "2pFxNv0FWSw8"
      }
    },
    {
      "cell_type": "code",
      "source": [
        "from plotnine import ggplot, geom_point, aes, theme_bw\n",
        "\n",
        "(ggplot(iris_df, aes(x = 'petal length (cm)', y = 'petal width (cm)')) +\n",
        " theme_bw() +\n",
        " geom_point(aes(color = 'factor(label)')))"
      ],
      "metadata": {
        "id": "bJk1bl6LWMBh"
      },
      "execution_count": null,
      "outputs": []
    },
    {
      "cell_type": "markdown",
      "source": [
        "# Iris - Actual Cluster"
      ],
      "metadata": {
        "id": "AlgRaTtqWog0"
      }
    },
    {
      "cell_type": "code",
      "source": [
        "# Get the actual labels\n",
        "iris_Y = iris_bunch.target\n",
        "\n",
        "(ggplot(iris_df, aes(x = 'petal length (cm)', y = 'petal width (cm)')) +\n",
        " theme_bw() +\n",
        " geom_point(aes(color = 'factor(iris_Y)')))"
      ],
      "metadata": {
        "id": "z5FhJ1L7Wxxk"
      },
      "execution_count": null,
      "outputs": []
    }
  ]
}